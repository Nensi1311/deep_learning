{
 "cells": [
  {
   "cell_type": "code",
   "execution_count": 1,
   "id": "b4c88e31",
   "metadata": {
    "scrolled": true
   },
   "outputs": [
    {
     "name": "stdout",
     "output_type": "stream",
     "text": [
      "Requirement already satisfied: tensorflow in c:\\users\\nensi\\anaconda3\\lib\\site-packages (2.18.0)\n",
      "Requirement already satisfied: tensorflow-intel==2.18.0 in c:\\users\\nensi\\anaconda3\\lib\\site-packages (from tensorflow) (2.18.0)\n",
      "Requirement already satisfied: tensorflow-io-gcs-filesystem>=0.23.1 in c:\\users\\nensi\\anaconda3\\lib\\site-packages (from tensorflow-intel==2.18.0->tensorflow) (0.31.0)\n",
      "Requirement already satisfied: opt-einsum>=2.3.2 in c:\\users\\nensi\\anaconda3\\lib\\site-packages (from tensorflow-intel==2.18.0->tensorflow) (3.3.0)\n",
      "Requirement already satisfied: six>=1.12.0 in c:\\users\\nensi\\anaconda3\\lib\\site-packages (from tensorflow-intel==2.18.0->tensorflow) (1.16.0)\n",
      "Requirement already satisfied: keras>=3.5.0 in c:\\users\\nensi\\anaconda3\\lib\\site-packages (from tensorflow-intel==2.18.0->tensorflow) (3.8.0)\n",
      "Requirement already satisfied: astunparse>=1.6.0 in c:\\users\\nensi\\anaconda3\\lib\\site-packages (from tensorflow-intel==2.18.0->tensorflow) (1.6.3)\n",
      "Requirement already satisfied: protobuf!=4.21.0,!=4.21.1,!=4.21.2,!=4.21.3,!=4.21.4,!=4.21.5,<6.0.0dev,>=3.20.3 in c:\\users\\nensi\\anaconda3\\lib\\site-packages (from tensorflow-intel==2.18.0->tensorflow) (4.25.3)\n",
      "Requirement already satisfied: numpy<2.1.0,>=1.26.0 in c:\\users\\nensi\\anaconda3\\lib\\site-packages (from tensorflow-intel==2.18.0->tensorflow) (1.26.4)\n",
      "Requirement already satisfied: setuptools in c:\\users\\nensi\\anaconda3\\lib\\site-packages (from tensorflow-intel==2.18.0->tensorflow) (65.6.3)\n",
      "Requirement already satisfied: tensorboard<2.19,>=2.18 in c:\\users\\nensi\\anaconda3\\lib\\site-packages (from tensorflow-intel==2.18.0->tensorflow) (2.18.0)\n",
      "Requirement already satisfied: gast!=0.5.0,!=0.5.1,!=0.5.2,>=0.2.1 in c:\\users\\nensi\\anaconda3\\lib\\site-packages (from tensorflow-intel==2.18.0->tensorflow) (0.5.4)\n",
      "Requirement already satisfied: flatbuffers>=24.3.25 in c:\\users\\nensi\\anaconda3\\lib\\site-packages (from tensorflow-intel==2.18.0->tensorflow) (24.3.25)\n",
      "Requirement already satisfied: libclang>=13.0.0 in c:\\users\\nensi\\anaconda3\\lib\\site-packages (from tensorflow-intel==2.18.0->tensorflow) (18.1.1)\n",
      "Requirement already satisfied: h5py>=3.11.0 in c:\\users\\nensi\\anaconda3\\lib\\site-packages (from tensorflow-intel==2.18.0->tensorflow) (3.11.0)\n",
      "Requirement already satisfied: grpcio<2.0,>=1.24.3 in c:\\users\\nensi\\anaconda3\\lib\\site-packages (from tensorflow-intel==2.18.0->tensorflow) (1.63.0)\n",
      "Requirement already satisfied: absl-py>=1.0.0 in c:\\users\\nensi\\anaconda3\\lib\\site-packages (from tensorflow-intel==2.18.0->tensorflow) (2.1.0)\n",
      "Requirement already satisfied: packaging in c:\\users\\nensi\\anaconda3\\lib\\site-packages (from tensorflow-intel==2.18.0->tensorflow) (22.0)\n",
      "Requirement already satisfied: wrapt>=1.11.0 in c:\\users\\nensi\\anaconda3\\lib\\site-packages (from tensorflow-intel==2.18.0->tensorflow) (1.14.1)\n",
      "Requirement already satisfied: termcolor>=1.1.0 in c:\\users\\nensi\\anaconda3\\lib\\site-packages (from tensorflow-intel==2.18.0->tensorflow) (2.4.0)\n",
      "Requirement already satisfied: typing-extensions>=3.6.6 in c:\\users\\nensi\\anaconda3\\lib\\site-packages (from tensorflow-intel==2.18.0->tensorflow) (4.12.2)\n",
      "Requirement already satisfied: ml-dtypes<0.5.0,>=0.4.0 in c:\\users\\nensi\\anaconda3\\lib\\site-packages (from tensorflow-intel==2.18.0->tensorflow) (0.4.1)\n",
      "Requirement already satisfied: requests<3,>=2.21.0 in c:\\users\\nensi\\anaconda3\\lib\\site-packages (from tensorflow-intel==2.18.0->tensorflow) (2.28.1)\n",
      "Requirement already satisfied: google-pasta>=0.1.1 in c:\\users\\nensi\\anaconda3\\lib\\site-packages (from tensorflow-intel==2.18.0->tensorflow) (0.2.0)\n",
      "Requirement already satisfied: wheel<1.0,>=0.23.0 in c:\\users\\nensi\\anaconda3\\lib\\site-packages (from astunparse>=1.6.0->tensorflow-intel==2.18.0->tensorflow) (0.38.4)\n",
      "Requirement already satisfied: optree in c:\\users\\nensi\\anaconda3\\lib\\site-packages (from keras>=3.5.0->tensorflow-intel==2.18.0->tensorflow) (0.11.0)\n",
      "Requirement already satisfied: namex in c:\\users\\nensi\\anaconda3\\lib\\site-packages (from keras>=3.5.0->tensorflow-intel==2.18.0->tensorflow) (0.0.8)\n",
      "Requirement already satisfied: rich in c:\\users\\nensi\\anaconda3\\lib\\site-packages (from keras>=3.5.0->tensorflow-intel==2.18.0->tensorflow) (13.7.1)\n",
      "Requirement already satisfied: urllib3<1.27,>=1.21.1 in c:\\users\\nensi\\anaconda3\\lib\\site-packages (from requests<3,>=2.21.0->tensorflow-intel==2.18.0->tensorflow) (1.26.14)\n",
      "Requirement already satisfied: certifi>=2017.4.17 in c:\\users\\nensi\\anaconda3\\lib\\site-packages (from requests<3,>=2.21.0->tensorflow-intel==2.18.0->tensorflow) (2022.12.7)\n",
      "Requirement already satisfied: charset-normalizer<3,>=2 in c:\\users\\nensi\\anaconda3\\lib\\site-packages (from requests<3,>=2.21.0->tensorflow-intel==2.18.0->tensorflow) (2.0.4)\n",
      "Requirement already satisfied: idna<4,>=2.5 in c:\\users\\nensi\\anaconda3\\lib\\site-packages (from requests<3,>=2.21.0->tensorflow-intel==2.18.0->tensorflow) (3.4)\n",
      "Requirement already satisfied: werkzeug>=1.0.1 in c:\\users\\nensi\\anaconda3\\lib\\site-packages (from tensorboard<2.19,>=2.18->tensorflow-intel==2.18.0->tensorflow) (2.2.2)\n",
      "Requirement already satisfied: markdown>=2.6.8 in c:\\users\\nensi\\anaconda3\\lib\\site-packages (from tensorboard<2.19,>=2.18->tensorflow-intel==2.18.0->tensorflow) (3.4.1)\n",
      "Requirement already satisfied: tensorboard-data-server<0.8.0,>=0.7.0 in c:\\users\\nensi\\anaconda3\\lib\\site-packages (from tensorboard<2.19,>=2.18->tensorflow-intel==2.18.0->tensorflow) (0.7.2)\n",
      "Requirement already satisfied: MarkupSafe>=2.1.1 in c:\\users\\nensi\\anaconda3\\lib\\site-packages (from werkzeug>=1.0.1->tensorboard<2.19,>=2.18->tensorflow-intel==2.18.0->tensorflow) (2.1.1)\n",
      "Requirement already satisfied: markdown-it-py>=2.2.0 in c:\\users\\nensi\\anaconda3\\lib\\site-packages (from rich->keras>=3.5.0->tensorflow-intel==2.18.0->tensorflow) (3.0.0)\n",
      "Requirement already satisfied: pygments<3.0.0,>=2.13.0 in c:\\users\\nensi\\anaconda3\\lib\\site-packages (from rich->keras>=3.5.0->tensorflow-intel==2.18.0->tensorflow) (2.17.2)\n",
      "Requirement already satisfied: mdurl~=0.1 in c:\\users\\nensi\\anaconda3\\lib\\site-packages (from markdown-it-py>=2.2.0->rich->keras>=3.5.0->tensorflow-intel==2.18.0->tensorflow) (0.1.2)\n",
      "Note: you may need to restart the kernel to use updated packages.\n"
     ]
    },
    {
     "name": "stderr",
     "output_type": "stream",
     "text": [
      "WARNING: Ignoring invalid distribution -illow (c:\\users\\nensi\\anaconda3\\lib\\site-packages)\n",
      "WARNING: Ignoring invalid distribution -illow (c:\\users\\nensi\\anaconda3\\lib\\site-packages)\n",
      "WARNING: Ignoring invalid distribution -illow (c:\\users\\nensi\\anaconda3\\lib\\site-packages)\n",
      "WARNING: Ignoring invalid distribution -illow (c:\\users\\nensi\\anaconda3\\lib\\site-packages)\n",
      "WARNING: Ignoring invalid distribution -illow (c:\\users\\nensi\\anaconda3\\lib\\site-packages)\n",
      "WARNING: Ignoring invalid distribution -illow (c:\\users\\nensi\\anaconda3\\lib\\site-packages)\n"
     ]
    }
   ],
   "source": [
    "pip install tensorflow"
   ]
  },
  {
   "cell_type": "code",
   "execution_count": 3,
   "id": "335c6dc1",
   "metadata": {},
   "outputs": [],
   "source": [
    "import tensorflow.compat.v1 as tf"
   ]
  },
  {
   "cell_type": "code",
   "execution_count": 5,
   "id": "829fdac9",
   "metadata": {},
   "outputs": [
    {
     "name": "stdout",
     "output_type": "stream",
     "text": [
      "WARNING:tensorflow:From C:\\Users\\nensi\\AppData\\Local\\Temp\\ipykernel_18468\\2739964446.py:1: The name tf.disable_eager_execution is deprecated. Please use tf.compat.v1.disable_eager_execution instead.\n",
      "\n"
     ]
    }
   ],
   "source": [
    "tf.disable_eager_execution()"
   ]
  },
  {
   "cell_type": "code",
   "execution_count": 6,
   "id": "18d64425",
   "metadata": {},
   "outputs": [
    {
     "name": "stdout",
     "output_type": "stream",
     "text": [
      "2.18.0\n"
     ]
    }
   ],
   "source": [
    "print(tf.__version__)"
   ]
  },
  {
   "cell_type": "code",
   "execution_count": 7,
   "id": "553bc1e7",
   "metadata": {},
   "outputs": [
    {
     "name": "stdout",
     "output_type": "stream",
     "text": [
      "Tensor(\"add:0\", shape=(), dtype=string)\n"
     ]
    }
   ],
   "source": [
    "he = tf.constant(\"Hello\")\n",
    "wo = tf.constant(\"World\")\n",
    "hewo = he + wo\n",
    "print(hewo)"
   ]
  },
  {
   "cell_type": "code",
   "execution_count": 10,
   "id": "c6da68ef",
   "metadata": {},
   "outputs": [
    {
     "name": "stdout",
     "output_type": "stream",
     "text": [
      "Hello World\n"
     ]
    }
   ],
   "source": [
    "phe = \"Hello \"\n",
    "pwo = \"World\"\n",
    "phewo = phe + pwo\n",
    "print(phewo)"
   ]
  },
  {
   "cell_type": "code",
   "execution_count": 22,
   "id": "f34ea0a5",
   "metadata": {},
   "outputs": [],
   "source": [
    "a = tf.constant(5)"
   ]
  },
  {
   "cell_type": "code",
   "execution_count": 23,
   "id": "76747fa8",
   "metadata": {},
   "outputs": [],
   "source": [
    "b = tf.constant(2)"
   ]
  },
  {
   "cell_type": "code",
   "execution_count": 24,
   "id": "8196308e",
   "metadata": {},
   "outputs": [],
   "source": [
    "c = tf.constant(3)"
   ]
  },
  {
   "cell_type": "code",
   "execution_count": 25,
   "id": "3b440b16",
   "metadata": {},
   "outputs": [],
   "source": [
    "d = tf.multiply(a, b)"
   ]
  },
  {
   "cell_type": "code",
   "execution_count": 26,
   "id": "6e3a895e",
   "metadata": {},
   "outputs": [],
   "source": [
    "e = tf.add(c, b)"
   ]
  },
  {
   "cell_type": "code",
   "execution_count": 27,
   "id": "c1a05403",
   "metadata": {},
   "outputs": [],
   "source": [
    "f = tf.subtract(d, e)"
   ]
  },
  {
   "cell_type": "code",
   "execution_count": 28,
   "id": "974c2815",
   "metadata": {},
   "outputs": [],
   "source": [
    "sess = tf.Session()"
   ]
  },
  {
   "cell_type": "code",
   "execution_count": 29,
   "id": "9c13430f",
   "metadata": {},
   "outputs": [],
   "source": [
    "res = sess.run(f)"
   ]
  },
  {
   "cell_type": "code",
   "execution_count": 30,
   "id": "5a8c9f11",
   "metadata": {},
   "outputs": [],
   "source": [
    "sess.close()"
   ]
  },
  {
   "cell_type": "code",
   "execution_count": 33,
   "id": "ba769d2e",
   "metadata": {},
   "outputs": [
    {
     "name": "stdout",
     "output_type": "stream",
     "text": [
      "Result=5\n"
     ]
    }
   ],
   "source": [
    "print(\"Result={}\".format(res))"
   ]
  },
  {
   "cell_type": "code",
   "execution_count": 34,
   "id": "b48d6bba",
   "metadata": {},
   "outputs": [
    {
     "name": "stdout",
     "output_type": "stream",
     "text": [
      "<tensorflow.python.framework.ops.Graph object at 0x000001A035B972C0>\n"
     ]
    }
   ],
   "source": [
    "print(tf.get_default_graph())"
   ]
  },
  {
   "cell_type": "code",
   "execution_count": 35,
   "id": "80ac9963",
   "metadata": {},
   "outputs": [],
   "source": [
    "g = tf.Graph()"
   ]
  },
  {
   "cell_type": "code",
   "execution_count": 36,
   "id": "1bea9cc2",
   "metadata": {},
   "outputs": [
    {
     "name": "stdout",
     "output_type": "stream",
     "text": [
      "<tensorflow.python.framework.ops.Graph object at 0x000001A03822D2C0>\n"
     ]
    }
   ],
   "source": [
    "print(g)"
   ]
  },
  {
   "cell_type": "code",
   "execution_count": 37,
   "id": "837efd3b",
   "metadata": {},
   "outputs": [],
   "source": [
    "z = tf.constant(8)"
   ]
  },
  {
   "cell_type": "code",
   "execution_count": 38,
   "id": "efa4f08c",
   "metadata": {},
   "outputs": [
    {
     "name": "stdout",
     "output_type": "stream",
     "text": [
      "False\n"
     ]
    }
   ],
   "source": [
    "print(z.graph is g)"
   ]
  },
  {
   "cell_type": "code",
   "execution_count": 39,
   "id": "5dad5f87",
   "metadata": {},
   "outputs": [
    {
     "name": "stdout",
     "output_type": "stream",
     "text": [
      "True\n"
     ]
    }
   ],
   "source": [
    "print(z.graph is tf.get_default_graph())"
   ]
  },
  {
   "cell_type": "code",
   "execution_count": 40,
   "id": "5ef5f8db",
   "metadata": {},
   "outputs": [],
   "source": [
    "sess = tf.Session()"
   ]
  },
  {
   "cell_type": "code",
   "execution_count": 41,
   "id": "49624f1d",
   "metadata": {},
   "outputs": [],
   "source": [
    "fetches = [a, b, c, d, e, f]"
   ]
  },
  {
   "cell_type": "code",
   "execution_count": 42,
   "id": "07fce744",
   "metadata": {},
   "outputs": [],
   "source": [
    "res = sess.run(fetches)"
   ]
  },
  {
   "cell_type": "code",
   "execution_count": 43,
   "id": "24184ae5",
   "metadata": {},
   "outputs": [],
   "source": [
    "sess.close()"
   ]
  },
  {
   "cell_type": "code",
   "execution_count": 44,
   "id": "49727882",
   "metadata": {},
   "outputs": [
    {
     "name": "stdout",
     "output_type": "stream",
     "text": [
      "Result=[5, 2, 3, 10, 5, 5]\n"
     ]
    }
   ],
   "source": [
    "print(\"Result={}\".format(res))"
   ]
  },
  {
   "cell_type": "code",
   "execution_count": 45,
   "id": "84d9f9d9",
   "metadata": {},
   "outputs": [],
   "source": [
    "a = tf.constant(3)"
   ]
  },
  {
   "cell_type": "code",
   "execution_count": 46,
   "id": "da040e6d",
   "metadata": {},
   "outputs": [],
   "source": [
    "b = tf.Variable(6)"
   ]
  },
  {
   "cell_type": "code",
   "execution_count": 47,
   "id": "27765925",
   "metadata": {},
   "outputs": [],
   "source": [
    "sum = tf.add(a, b)"
   ]
  },
  {
   "cell_type": "code",
   "execution_count": 48,
   "id": "310c8d97",
   "metadata": {},
   "outputs": [],
   "source": [
    "sum = a+b"
   ]
  },
  {
   "cell_type": "code",
   "execution_count": 49,
   "id": "e4914280",
   "metadata": {},
   "outputs": [],
   "source": [
    "assign_value = tf.assign(b, 4)"
   ]
  },
  {
   "cell_type": "code",
   "execution_count": 50,
   "id": "07bc2c20",
   "metadata": {},
   "outputs": [],
   "source": [
    "# to change value of b\n",
    "init_ops = tf.global_variables_initializer()"
   ]
  },
  {
   "cell_type": "code",
   "execution_count": 51,
   "id": "7eda9e69",
   "metadata": {},
   "outputs": [],
   "source": [
    "sess = tf.Session()"
   ]
  },
  {
   "cell_type": "code",
   "execution_count": 52,
   "id": "76fec2e4",
   "metadata": {},
   "outputs": [],
   "source": [
    "sess.run(init_ops)"
   ]
  },
  {
   "cell_type": "code",
   "execution_count": 53,
   "id": "e34d1bfb",
   "metadata": {},
   "outputs": [
    {
     "name": "stdout",
     "output_type": "stream",
     "text": [
      "9\n"
     ]
    }
   ],
   "source": [
    "print(sess.run(sum))"
   ]
  },
  {
   "cell_type": "code",
   "execution_count": 54,
   "id": "e3659f2e",
   "metadata": {},
   "outputs": [
    {
     "data": {
      "text/plain": [
       "4"
      ]
     },
     "execution_count": 54,
     "metadata": {},
     "output_type": "execute_result"
    }
   ],
   "source": [
    "sess.run(assign_value)"
   ]
  },
  {
   "cell_type": "code",
   "execution_count": 55,
   "id": "7077d935",
   "metadata": {},
   "outputs": [
    {
     "name": "stdout",
     "output_type": "stream",
     "text": [
      "7\n"
     ]
    }
   ],
   "source": [
    "print(sess.run(sum))"
   ]
  },
  {
   "cell_type": "code",
   "execution_count": 56,
   "id": "8349eb49",
   "metadata": {},
   "outputs": [],
   "source": [
    "# placeholder\n",
    "ph = tf.placeholder(tf.float32)"
   ]
  },
  {
   "cell_type": "code",
   "execution_count": 57,
   "id": "f94f820e",
   "metadata": {},
   "outputs": [],
   "source": [
    "eqn = ph*2"
   ]
  },
  {
   "cell_type": "code",
   "execution_count": 58,
   "id": "6da523ae",
   "metadata": {},
   "outputs": [
    {
     "data": {
      "text/plain": [
       "8.0"
      ]
     },
     "execution_count": 58,
     "metadata": {},
     "output_type": "execute_result"
    }
   ],
   "source": [
    "sess.run(eqn, feed_dict={ph:4.0})"
   ]
  },
  {
   "cell_type": "code",
   "execution_count": 59,
   "id": "bb9a3ba4",
   "metadata": {},
   "outputs": [
    {
     "data": {
      "text/plain": [
       "array([ 2.,  4.,  6.,  8., 10.], dtype=float32)"
      ]
     },
     "execution_count": 59,
     "metadata": {},
     "output_type": "execute_result"
    }
   ],
   "source": [
    "sess.run(eqn, feed_dict={ph:[1,2,3,4,5]})"
   ]
  },
  {
   "cell_type": "code",
   "execution_count": 61,
   "id": "661ba2e5",
   "metadata": {},
   "outputs": [
    {
     "data": {
      "text/plain": [
       "array([[ 2.,  4.,  6.,  8., 10.],\n",
       "       [12., 14., 16., 18., 16.],\n",
       "       [14.,  6.,  4.,  2.,  0.]], dtype=float32)"
      ]
     },
     "execution_count": 61,
     "metadata": {},
     "output_type": "execute_result"
    }
   ],
   "source": [
    "sess.run(eqn, feed_dict={ph:[[1,2,3,4,5], [6,7,8,9,8], [7,3,2,1,0]]})"
   ]
  },
  {
   "cell_type": "code",
   "execution_count": 63,
   "id": "88f42cc3",
   "metadata": {},
   "outputs": [],
   "source": [
    "x = tf.placeholder(tf.float32)"
   ]
  },
  {
   "cell_type": "code",
   "execution_count": 64,
   "id": "0f50babf",
   "metadata": {},
   "outputs": [],
   "source": [
    "y = tf.placeholder(tf.float32)"
   ]
  },
  {
   "cell_type": "code",
   "execution_count": 65,
   "id": "fa0eeb3c",
   "metadata": {},
   "outputs": [],
   "source": [
    "sum = x+y"
   ]
  },
  {
   "cell_type": "code",
   "execution_count": 66,
   "id": "14e27b37",
   "metadata": {},
   "outputs": [],
   "source": [
    "prd = sum*5"
   ]
  },
  {
   "cell_type": "code",
   "execution_count": 67,
   "id": "3f133606",
   "metadata": {},
   "outputs": [],
   "source": [
    "sess = tf.Session()"
   ]
  },
  {
   "cell_type": "code",
   "execution_count": 69,
   "id": "11738895",
   "metadata": {},
   "outputs": [
    {
     "data": {
      "text/plain": [
       "array([35.], dtype=float32)"
      ]
     },
     "execution_count": 69,
     "metadata": {},
     "output_type": "execute_result"
    }
   ],
   "source": [
    "sess.run(prd, feed_dict={x:[3], y:[4]})"
   ]
  },
  {
   "cell_type": "code",
   "execution_count": null,
   "id": "e638ee94",
   "metadata": {},
   "outputs": [],
   "source": []
  }
 ],
 "metadata": {
  "kernelspec": {
   "display_name": "Python 3 (ipykernel)",
   "language": "python",
   "name": "python3"
  },
  "language_info": {
   "codemirror_mode": {
    "name": "ipython",
    "version": 3
   },
   "file_extension": ".py",
   "mimetype": "text/x-python",
   "name": "python",
   "nbconvert_exporter": "python",
   "pygments_lexer": "ipython3",
   "version": "3.10.9"
  }
 },
 "nbformat": 4,
 "nbformat_minor": 5
}
